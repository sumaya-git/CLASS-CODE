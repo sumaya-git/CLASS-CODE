{
 "cells": [
  {
   "cell_type": "markdown",
   "metadata": {},
   "source": [
    "# Design patterns\n",
    "> Intead of code reuse, with patterns we get experience reuse\n",
    "\n",
    "# Properties of design pattern\n",
    "- They are language-independent.\n",
    "- They are time-tested, well-proven and well-known and many experts in the software industry agree with them.\n",
    "- They introduce a clever way to solving problems.\n",
    "- They are dynamic, meaning new design patterns are been discovered now and then.\n",
    "- They are highly customize.\n",
    "- They are solutions to known issues.\n"
   ]
  },
  {
   "cell_type": "markdown",
   "metadata": {},
   "source": [
    "# Taxonomy os Design pattern\n",
    "\n",
    "### Snippet\n",
    "This is usually code in some programming language for a specific purpose\n",
    "\n",
    "### Design\n",
    "A design is a code snippet that solve a specific problem\n",
    "\n",
    "### Pattern\n",
    "This is a design that is well-proven, time-tested, scalable."
   ]
  },
  {
   "cell_type": "markdown",
   "metadata": {},
   "source": [
    "## Design pattern Categories\n",
    "### Creational Pattern\n",
    "Design patterns in this category governs the creation of objects of a class.\n",
    "\n",
    "### Structural Pattern\n",
    "\n",
    "\n",
    "### Behavioral Pattern"
   ]
  },
  {
   "cell_type": "markdown",
   "metadata": {},
   "source": [
    "## Creational Pattern\n",
    "### Singleton Patern\n",
    "> Only one object \n",
    "### Use cases\n",
    "- In databases , you want to have only instance of the database to write to that database for data consistency."
   ]
  },
  {
   "cell_type": "code",
   "execution_count": 1,
   "metadata": {},
   "outputs": [],
   "source": [
    "class A:\n",
    "    pass\n",
    "a1 = A()\n",
    "a2 = A()\n",
    "a3 = A()"
   ]
  },
  {
   "cell_type": "code",
   "execution_count": 2,
   "metadata": {},
   "outputs": [
    {
     "name": "stdout",
     "output_type": "stream",
     "text": [
      "<__main__.A object at 0x7b9438fe3b60>\n",
      "<__main__.A object at 0x7b9438ffc1a0>\n",
      "<__main__.A object at 0x7b9438403110>\n"
     ]
    }
   ],
   "source": [
    "print(a1)\n",
    "print(a2)\n",
    "print(a3)"
   ]
  },
  {
   "cell_type": "code",
   "execution_count": 3,
   "metadata": {},
   "outputs": [
    {
     "name": "stdout",
     "output_type": "stream",
     "text": [
      "False\n",
      "False\n"
     ]
    }
   ],
   "source": [
    "print(a1 is a2)\n",
    "print(a2 == a3)"
   ]
  },
  {
   "cell_type": "code",
   "execution_count": 4,
   "metadata": {},
   "outputs": [
    {
     "data": {
      "text/plain": [
       "False"
      ]
     },
     "execution_count": 4,
     "metadata": {},
     "output_type": "execute_result"
    }
   ],
   "source": [
    "id(a1) == id(a2) == id(a3)"
   ]
  },
  {
   "cell_type": "markdown",
   "metadata": {},
   "source": [
    "### Dunder methods to understand\n",
    "- `__init__`:object initialization\n",
    "- `__new__`:class Instantiation(create object)\n",
    "\n",
    "### "
   ]
  },
  {
   "cell_type": "code",
   "execution_count": 5,
   "metadata": {},
   "outputs": [],
   "source": [
    "class OnlyOne(object):\n",
    "    __instance = None\n",
    "\n",
    "    def __new__(cls):\n",
    "        if cls.__instance is None:\n",
    "            cls.__instance = super().__new__(cls)\n",
    "\n",
    "        return cls.__instance\n",
    "        "
   ]
  },
  {
   "cell_type": "code",
   "execution_count": 6,
   "metadata": {},
   "outputs": [],
   "source": [
    "obj1 = OnlyOne()\n",
    "obj2 = OnlyOne()"
   ]
  },
  {
   "cell_type": "code",
   "execution_count": 7,
   "metadata": {},
   "outputs": [
    {
     "data": {
      "text/plain": [
       "True"
      ]
     },
     "execution_count": 7,
     "metadata": {},
     "output_type": "execute_result"
    }
   ],
   "source": [
    "id(obj1) == id(obj2)"
   ]
  },
  {
   "cell_type": "code",
   "execution_count": 9,
   "metadata": {},
   "outputs": [],
   "source": [
    "class OnlyOne(object):\n",
    "    __instance = None\n",
    "\n",
    "    def __new__(cls, x):\n",
    "        if cls.__instance is None:\n",
    "            cls.__instance = super().__new__(cls)\n",
    "\n",
    "        return cls.__instance\n",
    "    \n",
    "    def __init__(self, x):\n",
    "        self.x = x\n",
    "        "
   ]
  },
  {
   "cell_type": "code",
   "execution_count": 10,
   "metadata": {},
   "outputs": [],
   "source": [
    "obj1 = OnlyOne(1)\n",
    "obj2 = OnlyOne(0)"
   ]
  },
  {
   "cell_type": "code",
   "execution_count": 11,
   "metadata": {},
   "outputs": [
    {
     "data": {
      "text/plain": [
       "True"
      ]
     },
     "execution_count": 11,
     "metadata": {},
     "output_type": "execute_result"
    }
   ],
   "source": [
    "id(obj1) == id(obj2)"
   ]
  },
  {
   "cell_type": "code",
   "execution_count": 12,
   "metadata": {},
   "outputs": [
    {
     "name": "stdout",
     "output_type": "stream",
     "text": [
      "0\n",
      "0\n"
     ]
    }
   ],
   "source": [
    "print(obj1.x)\n",
    "print(obj2.x)"
   ]
  },
  {
   "cell_type": "code",
   "execution_count": 13,
   "metadata": {},
   "outputs": [],
   "source": [
    "class OnlyOne(object):\n",
    "    __instance = None\n",
    "\n",
    "    def __new__(cls, x):\n",
    "        if cls.__instance is None:\n",
    "            cls.__instance = super().__new__(cls)\n",
    "            cls.__instance.__new_init(x)\n",
    "\n",
    "        return cls.__instance\n",
    "    \n",
    "    def __new_init(self, x):\n",
    "       \n",
    "            self.x = x"
   ]
  },
  {
   "cell_type": "code",
   "execution_count": 15,
   "metadata": {},
   "outputs": [
    {
     "name": "stdout",
     "output_type": "stream",
     "text": [
      "0\n",
      "0\n"
     ]
    }
   ],
   "source": [
    "obj1 = OnlyOne(1)\n",
    "obj2 = OnlyOne(0)\n",
    "print(obj1.x)\n",
    "print(obj2.x)"
   ]
  }
 ],
 "metadata": {
  "kernelspec": {
   "display_name": "Python 3",
   "language": "python",
   "name": "python3"
  },
  "language_info": {
   "codemirror_mode": {
    "name": "ipython",
    "version": 3
   },
   "file_extension": ".py",
   "mimetype": "text/x-python",
   "name": "python",
   "nbconvert_exporter": "python",
   "pygments_lexer": "ipython3",
   "version": "3.12.3"
  }
 },
 "nbformat": 4,
 "nbformat_minor": 2
}
