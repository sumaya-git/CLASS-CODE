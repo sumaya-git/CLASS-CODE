{
 "cells": [
  {
   "cell_type": "markdown",
   "metadata": {},
   "source": [
    "# Design patterns\n",
    "\n",
    "## Behavioral pattern\n",
    "\n",
    "### Strategy pattern"
   ]
  },
  {
   "cell_type": "code",
   "execution_count": 1,
   "metadata": {},
   "outputs": [],
   "source": [
    "from abc import ABC, abstractmethod \n",
    "\n",
    "class Duck(ABC):\n",
    "    def quack(self):\n",
    "        print('quack')\n",
    "\n",
    "    def swim(self):\n",
    "        print('swim')\n",
    "\n",
    "    @abstractmethod\n",
    "    def look(self):\n",
    "        ..."
   ]
  },
  {
   "cell_type": "code",
   "execution_count": 2,
   "metadata": {},
   "outputs": [],
   "source": [
    "# Child duck classes\n",
    "class RedHeadDuck(Duck):\n",
    "    def look(self):\n",
    "        print('looks like a red head')\n",
    "\n",
    "class MallardDuck(Duck):\n",
    "    def look(self):\n",
    "        print('looks like a mallard')\n",
    "\n",
    "class RubberDuck(Duck):\n",
    "    def look(self):\n",
    "        print('looks like a rubber')\n",
    "\n",
    "# 27 more ducks bellow"
   ]
  },
  {
   "cell_type": "code",
   "execution_count": 3,
   "metadata": {},
   "outputs": [],
   "source": [
    "# Child duck classes\n",
    "class RedHeadDuck(Duck):\n",
    "    def look(self):\n",
    "        print('looks like a red head')\n",
    "\n",
    "class MallardDuck(Duck):\n",
    "    def look(self):\n",
    "        print('looks like a mallard')\n",
    "\n",
    "class RubberDuck(Duck):\n",
    "    def look(self):\n",
    "        print('looks like a rubber')\n",
    "    \n",
    "    def fly(self):\n",
    "        print('cannot fly')\n",
    "\n",
    "    def quack(self):\n",
    "        print('squeak')\n",
    "\n",
    "# 27 more ducks bellow"
   ]
  },
  {
   "cell_type": "code",
   "execution_count": 4,
   "metadata": {},
   "outputs": [],
   "source": [
    "# Parent class\n",
    "\n",
    "from abc import ABC, abstractmethod \n",
    "\n",
    "class Duck(ABC):\n",
    "    def swim(self):\n",
    "        print('swim')\n",
    "\n",
    "    @abstractmethod\n",
    "    def look(self):\n",
    "        ..."
   ]
  },
  {
   "cell_type": "code",
   "execution_count": 5,
   "metadata": {},
   "outputs": [],
   "source": [
    "# Mixins\n",
    "class FlyMixin:\n",
    "    def fly(self):\n",
    "        print('fly')\n",
    "\n",
    "class QuackMixin:\n",
    "    def quack(self):\n",
    "        print('quack')"
   ]
  },
  {
   "cell_type": "code",
   "execution_count": 6,
   "metadata": {},
   "outputs": [],
   "source": [
    "# Child duck classes\n",
    "class RedHeadDuck(Duck, FlyMixin, QuackMixin):\n",
    "    def look(self):\n",
    "        print('looks like a red head')\n",
    "\n",
    "class MallardDuck(Duck, FlyMixin, QuackMixin):\n",
    "    def look(self):\n",
    "        print('looks like a mallard')\n",
    "\n",
    "class RubberDuck(Duck, QuackMixin):\n",
    "    def look(self):\n",
    "        print('looks like a rubber')\n",
    "\n",
    "    def quack(self):\n",
    "        print('squeak')\n",
    "\n",
    "class WoodenDecoyDuck(Duck):\n",
    "    def look(self):\n",
    "        print('looks like a wood')\n",
    "\n",
    "# 27 more ducks bellow"
   ]
  },
  {
   "cell_type": "code",
   "execution_count": 7,
   "metadata": {},
   "outputs": [],
   "source": [
    "class FlyingBehavior(ABC):\n",
    "    @abstractmethod\n",
    "    def fly(self):\n",
    "        ...\n",
    "\n",
    "class QuackBehavior(ABC):\n",
    "    @abstractmethod\n",
    "    def quack(self):\n",
    "        ..."
   ]
  },
  {
   "cell_type": "code",
   "execution_count": 8,
   "metadata": {},
   "outputs": [],
   "source": [
    "# - quack, squeak, mutequack\n",
    "class Quack(QuackBehavior):\n",
    "    def quack(self):\n",
    "        print('quack')\n",
    "\n",
    "class Squeak(QuackBehavior):\n",
    "    def quack(self):\n",
    "        print('squeak')\n",
    "\n",
    "class MuteQuack(QuackBehavior):\n",
    "    def quack(self):\n",
    "        print('silence')"
   ]
  },
  {
   "cell_type": "code",
   "execution_count": 9,
   "metadata": {},
   "outputs": [],
   "source": [
    "## - Flying with wings, Not Flying, Flying without wings\n",
    "\n",
    "class FlyWithWings(FlyingBehavior):\n",
    "    def fly(self):\n",
    "        print('Fly with Wings')\n",
    "\n",
    "class FlyNoWay(FlyingBehavior):\n",
    "    def fly(self):\n",
    "        print('cannot fly')\n",
    "\n",
    "class FlyWithoutWings(FlyingBehavior):\n",
    "    def fly(self):\n",
    "        print('Fly without Wings')"
   ]
  },
  {
   "cell_type": "code",
   "execution_count": 10,
   "metadata": {},
   "outputs": [],
   "source": [
    "# Parent Duck\n",
    "class Duck(ABC):\n",
    "    def __init__(self):\n",
    "        self.fly_behavior: FlyingBehavior\n",
    "        self.quack_behavior: QuackBehavior\n",
    "\n",
    "    def fly(self):\n",
    "        self.fly_behavior.fly()\n",
    "\n",
    "    def quack(self):\n",
    "        self.quack_behavior.quack()\n",
    "\n",
    "    def swim(self):\n",
    "        print('swim')\n",
    "\n",
    "    @abstractmethod\n",
    "    def look(self):\n",
    "        ..."
   ]
  },
  {
   "cell_type": "code",
   "execution_count": 14,
   "metadata": {},
   "outputs": [],
   "source": [
    "# Child ducks\n",
    "\n",
    "class RedHeadDuck(Duck):\n",
    "    def __init__(self):\n",
    "        self.fly_behavior = FlyWithWings()\n",
    "        self.quack_behavior = Quack()\n",
    "\n",
    "    def look(self):\n",
    "        print('looks like a red head')\n",
    "\n",
    "class RubberDuck(Duck):\n",
    "    def __init__(self):\n",
    "        self.fly_behavior = FlyNoWay()\n",
    "        self.quack_behavior = Squeak()\n",
    "    def look(self):\n",
    "        print('looks like a rubber')\n",
    "# remaining 28 ducks"
   ]
  },
  {
   "cell_type": "code",
   "execution_count": 15,
   "metadata": {},
   "outputs": [],
   "source": [
    "red_head_duck = RedHeadDuck()\n",
    "rubber_duck  = RubberDuck()\n"
   ]
  }
 ],
 "metadata": {
  "kernelspec": {
   "display_name": "Python 3",
   "language": "python",
   "name": "python3"
  },
  "language_info": {
   "codemirror_mode": {
    "name": "ipython",
    "version": 3
   },
   "file_extension": ".py",
   "mimetype": "text/x-python",
   "name": "python",
   "nbconvert_exporter": "python",
   "pygments_lexer": "ipython3",
   "version": "3.12.3"
  }
 },
 "nbformat": 4,
 "nbformat_minor": 2
}
